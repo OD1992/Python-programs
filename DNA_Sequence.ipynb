{
  "nbformat": 4,
  "nbformat_minor": 0,
  "metadata": {
    "colab": {
      "provenance": [],
      "authorship_tag": "ABX9TyOrpMqnlXeeZ/LS4LSiq+il",
      "include_colab_link": true
    },
    "kernelspec": {
      "name": "python3",
      "display_name": "Python 3"
    },
    "language_info": {
      "name": "python"
    }
  },
  "cells": [
    {
      "cell_type": "markdown",
      "metadata": {
        "id": "view-in-github",
        "colab_type": "text"
      },
      "source": [
        "<a href=\"https://colab.research.google.com/github/OD1992/Python-programs/blob/main/DNA_Sequence.ipynb\" target=\"_parent\"><img src=\"https://colab.research.google.com/assets/colab-badge.svg\" alt=\"Open In Colab\"/></a>"
      ]
    },
    {
      "cell_type": "code",
      "execution_count": 3,
      "metadata": {
        "colab": {
          "base_uri": "https://localhost:8080/"
        },
        "id": "vV-On65nixbR",
        "outputId": "7fc55f6d-2059-4fba-b6f8-bf14ae972296"
      },
      "outputs": [
        {
          "output_type": "stream",
          "name": "stdout",
          "text": [
            "Collecting biopython\n",
            "  Downloading biopython-1.83-cp310-cp310-manylinux_2_17_x86_64.manylinux2014_x86_64.whl (3.1 MB)\n",
            "\u001b[2K     \u001b[90m━━━━━━━━━━━━━━━━━━━━━━━━━━━━━━━━━━━━━━━━\u001b[0m \u001b[32m3.1/3.1 MB\u001b[0m \u001b[31m14.2 MB/s\u001b[0m eta \u001b[36m0:00:00\u001b[0m\n",
            "\u001b[?25hRequirement already satisfied: numpy in /usr/local/lib/python3.10/dist-packages (from biopython) (1.23.5)\n",
            "Installing collected packages: biopython\n",
            "Successfully installed biopython-1.83\n"
          ]
        }
      ],
      "source": [
        "!pip install biopython\n"
      ]
    },
    {
      "cell_type": "code",
      "source": [
        "from Bio.Seq import Seq\n",
        "\n",
        "# Create a DNA sequence\n",
        "dna_sequence = Seq(\"ATCGATCGATCG\")\n",
        "\n",
        "# Print the sequence\n",
        "print(\"DNA Sequence:\", dna_sequence)\n",
        "\n",
        "# Get the reverse complement\n",
        "reverse_complement = dna_sequence.reverse_complement()\n",
        "print(\"Reverse Complement:\", reverse_complement)\n",
        "\n",
        "# Transcribe DNA to RNA\n",
        "rna_sequence = dna_sequence.transcribe()\n",
        "print(\"RNA Sequence:\", rna_sequence)\n",
        "\n",
        "# Translate RNA to protein\n",
        "protein_sequence = rna_sequence.translate()\n",
        "print(\"Protein Sequence:\", protein_sequence)"
      ],
      "metadata": {
        "colab": {
          "base_uri": "https://localhost:8080/"
        },
        "id": "F5dcMkB0jLL_",
        "outputId": "7963998a-e2e5-476c-c582-b9aae6d61674"
      },
      "execution_count": 4,
      "outputs": [
        {
          "output_type": "stream",
          "name": "stdout",
          "text": [
            "DNA Sequence: ATCGATCGATCG\n",
            "Reverse Complement: CGATCGATCGAT\n",
            "RNA Sequence: AUCGAUCGAUCG\n",
            "Protein Sequence: IDRS\n"
          ]
        }
      ]
    }
  ]
}